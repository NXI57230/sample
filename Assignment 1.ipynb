{
 "cells": [
  {
   "cell_type": "code",
   "execution_count": 1,
   "id": "4e6847f8",
   "metadata": {},
   "outputs": [],
   "source": [
    "import numpy as np"
   ]
  },
  {
   "cell_type": "code",
   "execution_count": 2,
   "id": "9d72ddb4",
   "metadata": {},
   "outputs": [
    {
     "data": {
      "text/plain": [
       "[19, 19, 20, 22, 24, 24, 24, 25, 25, 26]"
      ]
     },
     "execution_count": 2,
     "metadata": {},
     "output_type": "execute_result"
    }
   ],
   "source": [
    "ages = [19, 22, 19, 24, 20, 25, 26, 24, 25, 24]\n",
    "ages.sort()\n",
    "ages"
   ]
  },
  {
   "cell_type": "code",
   "execution_count": 3,
   "id": "2f13f9d9",
   "metadata": {},
   "outputs": [
    {
     "data": {
      "text/plain": [
       "[19, 19, 20, 22, 24, 24, 24, 25, 25, 26, 19, 26]"
      ]
     },
     "execution_count": 3,
     "metadata": {},
     "output_type": "execute_result"
    }
   ],
   "source": [
    "ages.append(min(ages))\n",
    "ages.append(max(ages))\n",
    "ages"
   ]
  },
  {
   "cell_type": "code",
   "execution_count": 4,
   "id": "f689d193",
   "metadata": {},
   "outputs": [
    {
     "data": {
      "text/plain": [
       "24.0"
      ]
     },
     "execution_count": 4,
     "metadata": {},
     "output_type": "execute_result"
    }
   ],
   "source": [
    "np.median(ages)"
   ]
  },
  {
   "cell_type": "code",
   "execution_count": 5,
   "id": "1bd20b73",
   "metadata": {},
   "outputs": [
    {
     "data": {
      "text/plain": [
       "22.75"
      ]
     },
     "execution_count": 5,
     "metadata": {},
     "output_type": "execute_result"
    }
   ],
   "source": [
    "np.average(ages)"
   ]
  },
  {
   "cell_type": "code",
   "execution_count": 7,
   "id": "b48c3520",
   "metadata": {},
   "outputs": [
    {
     "data": {
      "text/plain": [
       "range(19, 26)"
      ]
     },
     "execution_count": 7,
     "metadata": {},
     "output_type": "execute_result"
    }
   ],
   "source": [
    "range_ages = range(min(ages),max(ages))\n",
    "range_ages"
   ]
  },
  {
   "cell_type": "code",
   "execution_count": 13,
   "id": "01edeb35",
   "metadata": {},
   "outputs": [
    {
     "data": {
      "text/plain": [
       "{'name': 'peter',\n",
       " 'color': 'black',\n",
       " 'breed': 'Bernedoddle',\n",
       " 'legs': 'four',\n",
       " 'age': '17 weeks'}"
      ]
     },
     "execution_count": 13,
     "metadata": {},
     "output_type": "execute_result"
    }
   ],
   "source": [
    "dog = {\n",
    "'name' : 'peter',\n",
    "'color' : 'black',\n",
    "'breed' : 'Bernedoddle',\n",
    "'legs' : 'four',\n",
    "'age' : '17 weeks'\n",
    "}\n",
    "dog"
   ]
  },
  {
   "cell_type": "code",
   "execution_count": 14,
   "id": "d8e6e23d",
   "metadata": {},
   "outputs": [
    {
     "data": {
      "text/plain": [
       "{'first_name': 'Yaswanth',\n",
       " 'last_name': 'Inuganti',\n",
       " 'gender': 'Male',\n",
       " 'age': 23,\n",
       " 'marital_status': 'single',\n",
       " 'skills': ['Positive attitude'],\n",
       " 'city': 'Kansas',\n",
       " 'address': 'Floyd Dr'}"
      ]
     },
     "execution_count": 14,
     "metadata": {},
     "output_type": "execute_result"
    }
   ],
   "source": [
    "student = {\n",
    "'first_name' : 'Yaswanth',\n",
    "'last_name' : 'Inuganti',\n",
    "'gender' : 'Male',\n",
    "'age' : 23,\n",
    "'marital_status' : 'single',\n",
    "'skills' : ['Positive attitude'],\n",
    "'city' : 'Kansas',\n",
    "'address' : 'Floyd Dr'\n",
    "}\n",
    "student"
   ]
  },
  {
   "cell_type": "code",
   "execution_count": 15,
   "id": "20cd9be1",
   "metadata": {},
   "outputs": [
    {
     "data": {
      "text/plain": [
       "8"
      ]
     },
     "execution_count": 15,
     "metadata": {},
     "output_type": "execute_result"
    }
   ],
   "source": [
    "len(student)"
   ]
  },
  {
   "cell_type": "code",
   "execution_count": 16,
   "id": "9ea07533",
   "metadata": {},
   "outputs": [
    {
     "name": "stdout",
     "output_type": "stream",
     "text": [
      "['Positive attitude']\n",
      "<class 'list'>\n"
     ]
    }
   ],
   "source": [
    "print(student['skills'])\n",
    "print(type(student['skills']))"
   ]
  },
  {
   "cell_type": "code",
   "execution_count": 17,
   "id": "427d03d9",
   "metadata": {},
   "outputs": [
    {
     "data": {
      "text/plain": [
       "{'first_name': 'Yaswanth',\n",
       " 'last_name': 'Inuganti',\n",
       " 'gender': 'Male',\n",
       " 'age': 23,\n",
       " 'marital_status': 'single',\n",
       " 'skills': ['Positive attitude', 'multi-tasking'],\n",
       " 'city': 'Kansas',\n",
       " 'address': 'Floyd Dr'}"
      ]
     },
     "execution_count": 17,
     "metadata": {},
     "output_type": "execute_result"
    }
   ],
   "source": [
    "student['skills'].append('multi-tasking')\n",
    "student"
   ]
  },
  {
   "cell_type": "code",
   "execution_count": 18,
   "id": "acebd10b",
   "metadata": {},
   "outputs": [
    {
     "data": {
      "text/plain": [
       "dict_keys(['first_name', 'last_name', 'gender', 'age', 'marital_status', 'skills', 'city', 'address'])"
      ]
     },
     "execution_count": 18,
     "metadata": {},
     "output_type": "execute_result"
    }
   ],
   "source": [
    "student.keys()"
   ]
  },
  {
   "cell_type": "code",
   "execution_count": 20,
   "id": "d4af7f68",
   "metadata": {},
   "outputs": [
    {
     "data": {
      "text/plain": [
       "dict_values(['Yaswanth', 'Inuganti', 'Male', 23, 'single', ['Positive attitude', 'multi-tasking'], 'Kansas', 'Floyd Dr'])"
      ]
     },
     "execution_count": 20,
     "metadata": {},
     "output_type": "execute_result"
    }
   ],
   "source": [
    "student.values()"
   ]
  },
  {
   "cell_type": "code",
   "execution_count": 21,
   "id": "7a8cdde2",
   "metadata": {},
   "outputs": [
    {
     "data": {
      "text/plain": [
       "('john', 'ibrahim', 'sara', 'mira')"
      ]
     },
     "execution_count": 21,
     "metadata": {},
     "output_type": "execute_result"
    }
   ],
   "source": [
    "S1 = ('john','ibrahim','sara','mira')\n",
    "S1"
   ]
  },
  {
   "cell_type": "code",
   "execution_count": 22,
   "id": "288da555",
   "metadata": {},
   "outputs": [
    {
     "data": {
      "text/plain": [
       "('sara', 'mira', 'john', 'ibrahim')"
      ]
     },
     "execution_count": 22,
     "metadata": {},
     "output_type": "execute_result"
    }
   ],
   "source": [
    "brothers = ('john','ibrahim')\n",
    "sisters = ('sara','mira')\n",
    "siblings = sisters + brothers\n",
    "siblings"
   ]
  },
  {
   "cell_type": "code",
   "execution_count": 23,
   "id": "cb4f26d3",
   "metadata": {},
   "outputs": [
    {
     "data": {
      "text/plain": [
       "4"
      ]
     },
     "execution_count": 23,
     "metadata": {},
     "output_type": "execute_result"
    }
   ],
   "source": [
    "len(siblings)"
   ]
  },
  {
   "cell_type": "code",
   "execution_count": 24,
   "id": "075b8d04",
   "metadata": {},
   "outputs": [
    {
     "data": {
      "text/plain": [
       "('sara', 'mira', 'john', 'ibrahim', 'paul', 'jenny')"
      ]
     },
     "execution_count": 24,
     "metadata": {},
     "output_type": "execute_result"
    }
   ],
   "source": [
    "father = 'paul'\n",
    "mother = 'jenny'\n",
    "family_members = siblings + (father,mother)\n",
    "family_members"
   ]
  },
  {
   "cell_type": "code",
   "execution_count": 25,
   "id": "43c3592e",
   "metadata": {},
   "outputs": [],
   "source": [
    "it_companies = {'Facebook', 'Google', 'Microsoft', 'Apple', 'IBM', 'Oracle', 'Amazon'}\n",
    "A = {19, 22, 24, 20, 25, 26}\n",
    "B = {19, 22, 20, 25, 26, 24, 28, 27}\n",
    "age = [22, 19, 24, 25, 26, 24, 25, 24]"
   ]
  },
  {
   "cell_type": "code",
   "execution_count": 26,
   "id": "7b2d2081",
   "metadata": {},
   "outputs": [
    {
     "data": {
      "text/plain": [
       "7"
      ]
     },
     "execution_count": 26,
     "metadata": {},
     "output_type": "execute_result"
    }
   ],
   "source": [
    "len(it_companies)"
   ]
  },
  {
   "cell_type": "code",
   "execution_count": 27,
   "id": "460a30b1",
   "metadata": {},
   "outputs": [
    {
     "data": {
      "text/plain": [
       "{'Amazon',\n",
       " 'Apple',\n",
       " 'Facebook',\n",
       " 'Google',\n",
       " 'IBM',\n",
       " 'Microsoft',\n",
       " 'Oracle',\n",
       " 'Twitter'}"
      ]
     },
     "execution_count": 27,
     "metadata": {},
     "output_type": "execute_result"
    }
   ],
   "source": [
    "it_companies.add('Twitter')\n",
    "it_companies"
   ]
  },
  {
   "cell_type": "code",
   "execution_count": 32,
   "id": "429190c9",
   "metadata": {},
   "outputs": [
    {
     "data": {
      "text/plain": [
       "{'Amazon',\n",
       " 'Apple',\n",
       " 'Facebook',\n",
       " 'Google',\n",
       " 'IBM',\n",
       " 'Infosis',\n",
       " 'Microsoft',\n",
       " 'Oracle',\n",
       " 'Twitter',\n",
       " 'Wipro'}"
      ]
     },
     "execution_count": 32,
     "metadata": {},
     "output_type": "execute_result"
    }
   ],
   "source": [
    "it_companies.update(['Wipro','Infosis'])\n",
    "it_companies"
   ]
  },
  {
   "cell_type": "code",
   "execution_count": 33,
   "id": "2c990fe8",
   "metadata": {},
   "outputs": [
    {
     "data": {
      "text/plain": [
       "{'Amazon',\n",
       " 'Apple',\n",
       " 'Facebook',\n",
       " 'Google',\n",
       " 'IBM',\n",
       " 'Infosis',\n",
       " 'Microsoft',\n",
       " 'Oracle',\n",
       " 'Twitter'}"
      ]
     },
     "execution_count": 33,
     "metadata": {},
     "output_type": "execute_result"
    }
   ],
   "source": [
    "it_companies.remove('Wipro')\n",
    "it_companies"
   ]
  },
  {
   "cell_type": "code",
   "execution_count": null,
   "id": "97a6da60",
   "metadata": {},
   "outputs": [],
   "source": [
    "using remove will throw exception and discard doesn't"
   ]
  },
  {
   "cell_type": "code",
   "execution_count": 34,
   "id": "b22d2a9c",
   "metadata": {},
   "outputs": [
    {
     "data": {
      "text/plain": [
       "{19, 20, 22, 24, 25, 26, 27, 28}"
      ]
     },
     "execution_count": 34,
     "metadata": {},
     "output_type": "execute_result"
    }
   ],
   "source": [
    "A.union(B)"
   ]
  },
  {
   "cell_type": "code",
   "execution_count": 35,
   "id": "212acc00",
   "metadata": {},
   "outputs": [
    {
     "data": {
      "text/plain": [
       "{19, 20, 22, 24, 25, 26}"
      ]
     },
     "execution_count": 35,
     "metadata": {},
     "output_type": "execute_result"
    }
   ],
   "source": [
    "A.intersection(B)"
   ]
  },
  {
   "cell_type": "code",
   "execution_count": 36,
   "id": "e0e87888",
   "metadata": {},
   "outputs": [
    {
     "data": {
      "text/plain": [
       "True"
      ]
     },
     "execution_count": 36,
     "metadata": {},
     "output_type": "execute_result"
    }
   ],
   "source": [
    "A.issubset(B)"
   ]
  },
  {
   "cell_type": "code",
   "execution_count": 37,
   "id": "fc2e1be3",
   "metadata": {},
   "outputs": [
    {
     "data": {
      "text/plain": [
       "False"
      ]
     },
     "execution_count": 37,
     "metadata": {},
     "output_type": "execute_result"
    }
   ],
   "source": [
    "A.isdisjoint(B)"
   ]
  },
  {
   "cell_type": "code",
   "execution_count": 38,
   "id": "1d0cdd36",
   "metadata": {},
   "outputs": [
    {
     "data": {
      "text/plain": [
       "{19, 20, 22, 24, 25, 26, 27, 28}"
      ]
     },
     "execution_count": 38,
     "metadata": {},
     "output_type": "execute_result"
    }
   ],
   "source": [
    "A.union(B) and B.union(A)"
   ]
  },
  {
   "cell_type": "code",
   "execution_count": 39,
   "id": "51e486a3",
   "metadata": {},
   "outputs": [
    {
     "data": {
      "text/plain": [
       "{27, 28}"
      ]
     },
     "execution_count": 39,
     "metadata": {},
     "output_type": "execute_result"
    }
   ],
   "source": [
    "A.symmetric_difference(B)"
   ]
  },
  {
   "cell_type": "code",
   "execution_count": 40,
   "id": "8cdb43bc",
   "metadata": {},
   "outputs": [],
   "source": [
    "del A\n",
    "del B"
   ]
  },
  {
   "cell_type": "code",
   "execution_count": 41,
   "id": "f7affd4c",
   "metadata": {},
   "outputs": [
    {
     "data": {
      "text/plain": [
       "{19, 22, 24, 25, 26}"
      ]
     },
     "execution_count": 41,
     "metadata": {},
     "output_type": "execute_result"
    }
   ],
   "source": [
    "set_ages = set(age)\n",
    "set_ages"
   ]
  },
  {
   "cell_type": "code",
   "execution_count": 42,
   "id": "2c00754d",
   "metadata": {},
   "outputs": [
    {
     "data": {
      "text/plain": [
       "(8, 5)"
      ]
     },
     "execution_count": 42,
     "metadata": {},
     "output_type": "execute_result"
    }
   ],
   "source": [
    "len(age),len(set_ages)"
   ]
  },
  {
   "cell_type": "markdown",
   "id": "5cd3a33a",
   "metadata": {},
   "source": [
    "Question 5:"
   ]
  },
  {
   "cell_type": "code",
   "execution_count": 43,
   "id": "c93cd922",
   "metadata": {},
   "outputs": [
    {
     "data": {
      "text/plain": [
       "314.0"
      ]
     },
     "execution_count": 43,
     "metadata": {},
     "output_type": "execute_result"
    }
   ],
   "source": [
    "radius = 10\n",
    "_area_of_circle_ = 3.14*radius**2\n",
    "_area_of_circle_"
   ]
  },
  {
   "cell_type": "code",
   "execution_count": 44,
   "id": "5ed8a988",
   "metadata": {},
   "outputs": [
    {
     "data": {
      "text/plain": [
       "62.800000000000004"
      ]
     },
     "execution_count": 44,
     "metadata": {},
     "output_type": "execute_result"
    }
   ],
   "source": [
    "_circum_of_circle_ = 2*3.14*radius\n",
    "_circum_of_circle_"
   ]
  },
  {
   "cell_type": "code",
   "execution_count": 45,
   "id": "e93dede5",
   "metadata": {},
   "outputs": [
    {
     "name": "stdout",
     "output_type": "stream",
     "text": [
      "Enter the radius of circle = 10\n",
      "area of circle is : 314.0\n"
     ]
    }
   ],
   "source": [
    "r = float(input(\"Enter the radius of circle = \"))\n",
    "area = 3.14*r**2\n",
    "print('area of circle is : {}'.format(area))"
   ]
  },
  {
   "cell_type": "markdown",
   "id": "e3e37e79",
   "metadata": {},
   "source": [
    "Question 6:"
   ]
  },
  {
   "cell_type": "code",
   "execution_count": 48,
   "id": "d2b388cb",
   "metadata": {},
   "outputs": [
    {
     "data": {
      "text/plain": [
       "10"
      ]
     },
     "execution_count": 48,
     "metadata": {},
     "output_type": "execute_result"
    }
   ],
   "source": [
    "s = \"I am a teacher and I love to inspire and teach people\"\n",
    "s1 = s.split(' ')\n",
    "set_s1=set(s1)\n",
    "set_s1\n",
    "len(set_s1)"
   ]
  },
  {
   "cell_type": "markdown",
   "id": "2395114f",
   "metadata": {},
   "source": [
    "Question 7:"
   ]
  },
  {
   "cell_type": "code",
   "execution_count": 49,
   "id": "4becb368",
   "metadata": {},
   "outputs": [
    {
     "name": "stdout",
     "output_type": "stream",
     "text": [
      "Name\tAge\tCountry\tCity\n",
      "Asabeneh\t250\tFinlan\tHelsinki\n"
     ]
    }
   ],
   "source": [
    "print('Name\\tAge\\tCountry\\tCity\\nAsabeneh\\t250\\tFinlan\\tHelsinki')"
   ]
  },
  {
   "cell_type": "markdown",
   "id": "2d55f826",
   "metadata": {},
   "source": [
    "Question 8:"
   ]
  },
  {
   "cell_type": "code",
   "execution_count": 50,
   "id": "513b5cec",
   "metadata": {},
   "outputs": [
    {
     "name": "stdout",
     "output_type": "stream",
     "text": [
      "The area of circle with radius 10 is 314.0 meter square\n"
     ]
    }
   ],
   "source": [
    "radius=10\n",
    "area=3.14*radius**2\n",
    "print('The area of circle with radius',radius,'is',area,'meter square')"
   ]
  },
  {
   "cell_type": "markdown",
   "id": "2b674ce5",
   "metadata": {},
   "source": [
    "Question 9:"
   ]
  },
  {
   "cell_type": "code",
   "execution_count": 55,
   "id": "450450a7",
   "metadata": {},
   "outputs": [
    {
     "name": "stdout",
     "output_type": "stream",
     "text": [
      "Enter no of students: 4\n",
      "\n",
      "Enter student weights in lbs:\n",
      "144\n",
      "156\n",
      "134\n",
      "143\n",
      "[65.32, 70.76, 60.78, 64.86]\n"
     ]
    }
   ],
   "source": [
    "lst = []\n",
    "weight = []\n",
    "no_of_students = int(input(\"Enter no of students: \"))\n",
    "print('\\nEnter student weights in lbs:')\n",
    "for i in range(0, no_of_students):\n",
    "    lst.append(int(input()))\n",
    "\n",
    "for i in range(0, no_of_students):\n",
    "    weight.append(round(0.453592 * lst[i], 2))\n",
    "\n",
    "print(weight)\n"
   ]
  },
  {
   "cell_type": "markdown",
   "id": "c0136d81",
   "metadata": {},
   "source": [
    "Question 10:"
   ]
  },
  {
   "cell_type": "code",
   "execution_count": 183,
   "id": "0d36e60c",
   "metadata": {},
   "outputs": [
    {
     "name": "stdout",
     "output_type": "stream",
     "text": [
      "testing inputs: [[2], [7], [1], [11]]\n",
      "predicted outputs: [1 1 1 1]\n",
      "confusion matrix: \n",
      "[[0 3]\n",
      " [0 1]]\n",
      "accuracy: \n",
      " 0.25\n",
      "specificity: \n",
      " 1.0\n"
     ]
    }
   ],
   "source": [
    "#The diagram below shows a dataset with 2 classes and 8 data points, each with only one feature value, labeled f.\n",
    "#  Note that there are two data points with the same feature value of 6. These are shown as two x’s one above the other.\n",
    "#1. Divide this data equally into two parts. Use first part as training and second part as testing.\n",
    "#  Using KNN classifier, for K=3, what would be the predicted outputs for the test samples? Show how you arrived at your answer.\n",
    "#2. Compute the confusion matrix for this and calculate accuracy, sensitivity and specificity values.\n",
    "\n",
    "\n",
    "# 2 given classes are f1, f2 where f1 = dot , f2 = y\n",
    "\n",
    "# 1 - f1\n",
    "# 2 - f1\n",
    "# 3 - f2\n",
    "# 4 - nothing\n",
    "# 5 - nothing\n",
    "# 6 - f2\n",
    "# 6 - f2\n",
    "# 7 - f1\n",
    "# 8 - nothing\n",
    "# 9 - nothing\n",
    "# 10 - f1\n",
    "# 11 - f1\n",
    "# 12 - nothing\n",
    "# 13 - nothing\n",
    "\n",
    "\n",
    "# assume each output class as f1 or f2, say dot means f1, X means f2\n",
    "# The dataset that I decided from the diagram is on dataset variable defined below.\n",
    "# lets seperate the features and outputs into 2 different arrays\n",
    "# X = [[1], [2] ,[3], [6], [6], [7], [10], [11]] represents features for the given dataset\n",
    "# y = [0, 0, 1, 1, 1, 0, 0, 0] represents classes for these features\n",
    "# Then I applied a simple KNN algorithm\n",
    "# Created the confusion matrix with the predicted values and ofc inbuilt methods\n",
    "# Then I defined accuracy and specificity, sensitivity values as follows (inbuilt methods)\n",
    "\n",
    " \n",
    "\n",
    "from sklearn.neighbors import KNeighborsClassifier\n",
    "from sklearn.model_selection import train_test_split\n",
    "from sklearn import metrics\n",
    "\n",
    "\n",
    "dataset = [[1, 0], [2, 1], [3, 1], [6, 1], [6, 1], [7, 0], [10, 0], [11, 0]]\n",
    "X = [[1], [2] ,[3], [6], [6], [7], [10], [11]]\n",
    "y = [0, 1, 1, 1, 1, 0, 0, 0]\n",
    "\n",
    "X_train, X_test, y_train, y_test = train_test_split(X, y, test_size = 0.5, random_state=42)\n",
    "\n",
    "\n",
    "# print(X_train)\n",
    "# print(X_test)\n",
    "# print(y_train)\n",
    "# print(y_test)\n",
    "\n",
    "\n",
    "knn = KNeighborsClassifier(n_neighbors=3)\n",
    "knn.fit(X_train, y_train)\n",
    "predicted = knn.predict(X_test)\n",
    "confusion_matrix = metrics.confusion_matrix(y_test, predicted)\n",
    "\n",
    "TP = confusion_matrix[0][0]\n",
    "FP = confusion_matrix[0][1]\n",
    "FN = confusion_matrix[1][0]\n",
    "TN = confusion_matrix[1][1]\n",
    "\n",
    "\n",
    "\n",
    "print(f'testing inputs: {X_test}')\n",
    "print(f'predicted outputs: {predicted}')\n",
    "print(f'confusion matrix: \\n{confusion_matrix}')\n",
    "print(f'accuracy: \\n {metrics.accuracy_score(y_test, predicted)}')\n",
    "# print(f'sensitivity: \\n {TP/(TP + FN)}') # Getting 0 / 0\n",
    "print(f'specificity: \\n {TN/(TN + FN)}')"
   ]
  },
  {
   "cell_type": "code",
   "execution_count": null,
   "id": "643c55de",
   "metadata": {},
   "outputs": [],
   "source": []
  }
 ],
 "metadata": {
  "kernelspec": {
   "display_name": "Python 3 (ipykernel)",
   "language": "python",
   "name": "python3"
  },
  "language_info": {
   "codemirror_mode": {
    "name": "ipython",
    "version": 3
   },
   "file_extension": ".py",
   "mimetype": "text/x-python",
   "name": "python",
   "nbconvert_exporter": "python",
   "pygments_lexer": "ipython3",
   "version": "3.9.12"
  }
 },
 "nbformat": 4,
 "nbformat_minor": 5
}
